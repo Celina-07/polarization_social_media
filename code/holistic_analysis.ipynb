{
 "cells": [
  {
   "attachments": {},
   "cell_type": "markdown",
   "metadata": {},
   "source": [
    "# Polarization behaviors on Twitter: holistic analysis\n",
    "\n",
    "In this notebook, the following steps are performed:\n",
    "* Computation of studied polarization factors (normalized entropy)\n",
    "* Computation of polarization scores, using the GRAIL metric\n",
    "* Identification of behavioral classes, using the k-means algorithm\n",
    "* Characterization of behavioral classes, using hierarchial regression\n",
    "\n",
    "It can be run for two debates: \n",
    "* The COVID-19 debate, opposing the pro-vaccine and anti-vaccine communities.\n",
    "* The Ukraine conflict debate, opposing the pro-Ukraine and pro-Russia communities. \n",
    "\n",
    "At certain stages, it is needed to comment and/or uncomment the code, depending on the debate being studied. \n",
    "By default, the Ukraine conflict debate is studied."
   ]
  },
  {
   "cell_type": "markdown",
   "metadata": {},
   "source": [
    "# Libraries import\n",
    "\n",
    "As a first step, all necessary libraries are imported"
   ]
  },
  {
   "cell_type": "code",
   "execution_count": 2,
   "metadata": {},
   "outputs": [],
   "source": [
    "import math\n",
    "import numpy as np\n",
    "import matplotlib.pyplot as plt\n",
    "import matplotlib.cm as cm\n",
    "import pandas as pd\n",
    "from tqdm import tqdm\n",
    "from tqdm import tnrange, tqdm_notebook\n",
    "from scipy.stats import entropy\n",
    "import itertools\n",
    "import statsmodels.api as sm\n",
    "from sklearn.cluster import KMeans\n",
    "from sklearn import metrics\n",
    "from sklearn.metrics import silhouette_samples, silhouette_score\n",
    "from sklearn.metrics import davies_bouldin_score"
   ]
  },
  {
   "attachments": {},
   "cell_type": "markdown",
   "metadata": {},
   "source": [
    "# Data import\n",
    "\n",
    "Then, data are imported. \n",
    "For the holistic analysis, two datasets are required:\n",
    "* edges: contains all the links between standard users and elite users (sources). One link corresponds to one retweet. \n",
    "* factors_data: contains computed factors for each standard users. These factors are either computed directly from collected dataset (number of retweets, proportion of retweets on the studied debate, frequency of interactions, number of elite users retweeted in each community), or from the graph built from the collected dataset (proximity centrality, betweenness centrality, PageRank)"
   ]
  },
  {
   "cell_type": "code",
   "execution_count": 3,
   "metadata": {},
   "outputs": [],
   "source": [
    "#Required data to study the vaccine debate \n",
    "# edges = pd.read_csv('../data/vaccine_debate/interactions_vaccine_debate.csv', index_col=0)\n",
    "# factors_data = pd.read_csv('../data/vaccine_debate/indicators_vaccine_debate.csv', index_col=0)\n",
    "\n",
    "#Required data to study the Ukraine conflict debate\n",
    "edges = pd.read_csv('../data/ukraine_debate/interactions_ukraine_debate.csv', index_col=0)\n",
    "factors_data = pd.read_csv('../data/ukraine_debate/indicators_ukraine_debate.csv', index_col=0)"
   ]
  },
  {
   "cell_type": "code",
   "execution_count": 4,
   "metadata": {},
   "outputs": [
    {
     "data": {
      "text/html": [
       "<div>\n",
       "<style scoped>\n",
       "    .dataframe tbody tr th:only-of-type {\n",
       "        vertical-align: middle;\n",
       "    }\n",
       "\n",
       "    .dataframe tbody tr th {\n",
       "        vertical-align: top;\n",
       "    }\n",
       "\n",
       "    .dataframe thead th {\n",
       "        text-align: right;\n",
       "    }\n",
       "</style>\n",
       "<table border=\"1\" class=\"dataframe\">\n",
       "  <thead>\n",
       "    <tr style=\"text-align: right;\">\n",
       "      <th></th>\n",
       "      <th>Source</th>\n",
       "      <th>Target</th>\n",
       "      <th>Timeset</th>\n",
       "      <th>Side</th>\n",
       "    </tr>\n",
       "  </thead>\n",
       "  <tbody>\n",
       "    <tr>\n",
       "      <th>0</th>\n",
       "      <td>S0V</td>\n",
       "      <td>E0V</td>\n",
       "      <td>2022-07-30</td>\n",
       "      <td>provax</td>\n",
       "    </tr>\n",
       "    <tr>\n",
       "      <th>1</th>\n",
       "      <td>S0V</td>\n",
       "      <td>E0V</td>\n",
       "      <td>2022-07-30</td>\n",
       "      <td>provax</td>\n",
       "    </tr>\n",
       "    <tr>\n",
       "      <th>2</th>\n",
       "      <td>S0V</td>\n",
       "      <td>E1V</td>\n",
       "      <td>2022-07-27</td>\n",
       "      <td>provax</td>\n",
       "    </tr>\n",
       "    <tr>\n",
       "      <th>3</th>\n",
       "      <td>S0V</td>\n",
       "      <td>E1V</td>\n",
       "      <td>2022-07-25</td>\n",
       "      <td>provax</td>\n",
       "    </tr>\n",
       "    <tr>\n",
       "      <th>4</th>\n",
       "      <td>S0V</td>\n",
       "      <td>E1V</td>\n",
       "      <td>2022-07-19</td>\n",
       "      <td>provax</td>\n",
       "    </tr>\n",
       "  </tbody>\n",
       "</table>\n",
       "</div>"
      ],
      "text/plain": [
       "  Source Target     Timeset    Side\n",
       "0    S0V    E0V  2022-07-30  provax\n",
       "1    S0V    E0V  2022-07-30  provax\n",
       "2    S0V    E1V  2022-07-27  provax\n",
       "3    S0V    E1V  2022-07-25  provax\n",
       "4    S0V    E1V  2022-07-19  provax"
      ]
     },
     "execution_count": 4,
     "metadata": {},
     "output_type": "execute_result"
    }
   ],
   "source": [
    "edges.head()"
   ]
  },
  {
   "cell_type": "code",
   "execution_count": 5,
   "metadata": {},
   "outputs": [
    {
     "name": "stdout",
     "output_type": "stream",
     "text": [
      "Number of standard users: 1000\n",
      "Number of elite users: 20\n",
      "Number of retweets: 299882\n"
     ]
    }
   ],
   "source": [
    "print('Number of standard users:', edges['Source'].nunique())\n",
    "print('Number of elite users:', edges['Target'].nunique())\n",
    "print('Number of retweets:',len(edges))"
   ]
  },
  {
   "cell_type": "code",
   "execution_count": 6,
   "metadata": {},
   "outputs": [],
   "source": [
    "#Create a list with identifier of each user\n",
    "retweeters = edges['Source'].unique().tolist()"
   ]
  },
  {
   "cell_type": "code",
   "execution_count": 7,
   "metadata": {},
   "outputs": [],
   "source": [
    "#Create lists with identifier of elite users of each community\n",
    "\n",
    "#Vaccine debate\n",
    "# provax_usernames = edges[edges['Side']=='provax']['Target'].unique().tolist()\n",
    "# antivax_usernames = edges[edges['Side']=='antivax']['Target'].unique().tolist()\n",
    "\n",
    "#Ukraine conflict debate\n",
    "prorussia_usernames = edges[edges['Side']=='prorussia']['Target'].unique().tolist()\n",
    "proukraine_usernames = edges[edges['Side']=='proukraine']['Target'].unique().tolist()"
   ]
  },
  {
   "cell_type": "code",
   "execution_count": 8,
   "metadata": {},
   "outputs": [],
   "source": [
    "#vaccine_usernames = provax_usernames + antivax_usernames\n",
    "war_usernames = prorussia_usernames + proukraine_usernames"
   ]
  },
  {
   "attachments": {},
   "cell_type": "markdown",
   "metadata": {},
   "source": [
    "# Polarization factors computation\n",
    "\n",
    "3 polarization factors are studied: \n",
    "* Opinions, noted $H'_O$.\n",
    "* Sources, in one community, noted $H'_{s,pro}$ or $H'_{s,proU}$ for the vaccine and Ukraine conflict debate respectively.  \n",
    "* Sources, in the opppsing community, noted $H'_{s,anti}$ or $H'_{s,proR}$ for the vaccine and Ukraine conflict debate respectively.  \n",
    "\n",
    "Each factor is computed with normalized entropy.\n",
    "The sign of the opinion factor $H'_O$ is set according to the community within which the user interact more, and therefore ranges in [-1,1] . This allows to differentiate users accessing more one community or the other. For the clustering process, $H'_O$ is transformed so that it is included in [0,1]. To this end, computed $H'_o$ values are transformed using $H'_otrans = \\frac{H'_o+1}{2}$. "
   ]
  },
  {
   "cell_type": "code",
   "execution_count": 9,
   "metadata": {},
   "outputs": [],
   "source": [
    "def normalized_entropy(distribution):\n",
    "    return entropy(distribution, base=2)/np.log2(len(distribution))"
   ]
  },
  {
   "cell_type": "code",
   "execution_count": 10,
   "metadata": {},
   "outputs": [],
   "source": [
    "#Function to compute factors\n",
    "def compute_new_polarization_index_terms(edges_df, list_users, comm1, comm2, comm1_usernames, comm2_usernames):\n",
    "    dict_x_term ={}\n",
    "    dict_y_term_comm1 = {}\n",
    "    dict_y_term_comm2 = {}\n",
    "\n",
    "    nb_communities = 2\n",
    "    nb_mentors_C1 = len(comm1_usernames)\n",
    "    nb_mentors_C2 = len(comm2_usernames)\n",
    "    list_usernames_total = comm1_usernames + comm2_usernames\n",
    "\n",
    "    for i in tqdm(range(len(list_users))):\n",
    "        df_user = edges_df[edges_df['Source']==list_users[i]] \n",
    "        comm1_links = len(df_user[df_user['Side']==comm1])\n",
    "        comm2_links = len(df_user[df_user['Side']==comm2])\n",
    "        degree = len(df_user)\n",
    "\n",
    "        PC_user = [comm1_links/degree, comm2_links/degree]\n",
    "        w1 = PC_user[0]\n",
    "        w2 = PC_user[1]\n",
    "        \n",
    "        PM1_user = []\n",
    "        PM2_user = []\n",
    "        PM_user = []\n",
    "        nb_communities_user = 0\n",
    "\n",
    "        if comm1_links > 0:\n",
    "            nb_communities_user = nb_communities_user+1          \n",
    "            for j in range(len(comm1_usernames)): \n",
    "                nb_links_mentor_j = len(df_user[df_user['Target']==comm1_usernames[j]])\n",
    "                PM1_user.append(nb_links_mentor_j/comm1_links)\n",
    "        \n",
    "        if comm2_links > 0:\n",
    "            nb_communities_user = nb_communities_user+1\n",
    "            for j in range(len(comm2_usernames)):\n",
    "                nb_links_mentor_j = len(df_user[df_user['Target']==comm2_usernames[j]])\n",
    "                PM2_user.append(nb_links_mentor_j/comm2_links)\n",
    "\n",
    "\n",
    "        #Opinion factor\n",
    "        Ho_user = normalized_entropy(PC_user)\n",
    "\n",
    "\n",
    "        #Sources C1 factor\n",
    "        if comm1_links > 0:\n",
    "            Hs_user_comm1 = normalized_entropy(PM1_user)\n",
    "        else :\n",
    "            Hs_user_comm1 = 1\n",
    "\n",
    "        #Sources C2 factor\n",
    "        if comm2_links > 0:\n",
    "            Hs_user_comm2 = normalized_entropy(PM2_user)\n",
    "        else:\n",
    "            Hs_user_comm2 = 1\n",
    "        \n",
    "\n",
    "        if w1 >= w2:\n",
    "            dict_key = {list_users[i]:1-Ho_user}\n",
    "            dict_x_term.update(dict_key)\n",
    "        elif w1 < w2:\n",
    "            dict_key = {list_users[i]:-(1-Ho_user)}\n",
    "            dict_x_term.update(dict_key)\n",
    "\n",
    "\n",
    "        dict_key = {list_users[i]:1-Hs_user_comm1}\n",
    "        dict_y_term_comm1.update(dict_key)\n",
    "\n",
    "        dict_key = {list_users[i]:1-Hs_user_comm2}\n",
    "        dict_y_term_comm2.update(dict_key)\n",
    "\n",
    "    return dict_x_term, dict_y_term_comm1, dict_y_term_comm2"
   ]
  },
  {
   "cell_type": "code",
   "execution_count": 11,
   "metadata": {},
   "outputs": [
    {
     "name": "stderr",
     "output_type": "stream",
     "text": [
      "100%|██████████| 1000/1000 [00:24<00:00, 40.87it/s]\n"
     ]
    }
   ],
   "source": [
    "#dict_x_term, dict_y_provax, dict_y_antivax = compute_new_polarization_index_terms(edges, retweeters, 'provax', 'antivax', provax_usernames, antivax_usernames)\n",
    "dict_x_term, dict_y_proukraine, dict_y_prorussia = compute_new_polarization_index_terms(edges, retweeters, 'proukraine', 'prorussia', proukraine_usernames, prorussia_usernames)"
   ]
  },
  {
   "cell_type": "code",
   "execution_count": 12,
   "metadata": {},
   "outputs": [],
   "source": [
    "#Creation of a DataFrame containing each factor\n",
    "\n",
    "# df_polarization_index = pd.DataFrame.from_dict(dict_x_term, orient='index', columns=['x_term'])\n",
    "# df_polarization_index['x_term_trans'] = (df_polarization_index['x_term']+1)/2\n",
    "# df_polarization_index['y_term_provax'] = df_polarization_index.index.map(dict_y_provax)\n",
    "# df_polarization_index['y_term_antivax'] = df_polarization_index.index.map(dict_y_antivax)\n",
    "\n",
    "df_polarization_index = pd.DataFrame.from_dict(dict_x_term, orient='index', columns=['x_term'])\n",
    "df_polarization_index['x_term_trans'] = (df_polarization_index['x_term']+1)/2\n",
    "df_polarization_index['y_term_proukraine'] = df_polarization_index.index.map(dict_y_proukraine)\n",
    "df_polarization_index['y_term_prorussia'] = df_polarization_index.index.map(dict_y_prorussia)"
   ]
  },
  {
   "cell_type": "code",
   "execution_count": 13,
   "metadata": {},
   "outputs": [
    {
     "data": {
      "text/html": [
       "<div>\n",
       "<style scoped>\n",
       "    .dataframe tbody tr th:only-of-type {\n",
       "        vertical-align: middle;\n",
       "    }\n",
       "\n",
       "    .dataframe tbody tr th {\n",
       "        vertical-align: top;\n",
       "    }\n",
       "\n",
       "    .dataframe thead th {\n",
       "        text-align: right;\n",
       "    }\n",
       "</style>\n",
       "<table border=\"1\" class=\"dataframe\">\n",
       "  <thead>\n",
       "    <tr style=\"text-align: right;\">\n",
       "      <th></th>\n",
       "      <th>x_term</th>\n",
       "      <th>x_term_trans</th>\n",
       "      <th>y_term_provax</th>\n",
       "      <th>y_term_antivax</th>\n",
       "    </tr>\n",
       "  </thead>\n",
       "  <tbody>\n",
       "    <tr>\n",
       "      <th>S0V</th>\n",
       "      <td>0.963725</td>\n",
       "      <td>0.981862</td>\n",
       "      <td>0.180960</td>\n",
       "      <td>1.0</td>\n",
       "    </tr>\n",
       "    <tr>\n",
       "      <th>S1V</th>\n",
       "      <td>0.657057</td>\n",
       "      <td>0.828529</td>\n",
       "      <td>0.813457</td>\n",
       "      <td>1.0</td>\n",
       "    </tr>\n",
       "    <tr>\n",
       "      <th>S2V</th>\n",
       "      <td>1.000000</td>\n",
       "      <td>1.000000</td>\n",
       "      <td>0.413996</td>\n",
       "      <td>0.0</td>\n",
       "    </tr>\n",
       "    <tr>\n",
       "      <th>S3V</th>\n",
       "      <td>1.000000</td>\n",
       "      <td>1.000000</td>\n",
       "      <td>0.211324</td>\n",
       "      <td>0.0</td>\n",
       "    </tr>\n",
       "    <tr>\n",
       "      <th>S4V</th>\n",
       "      <td>1.000000</td>\n",
       "      <td>1.000000</td>\n",
       "      <td>0.196095</td>\n",
       "      <td>0.0</td>\n",
       "    </tr>\n",
       "  </tbody>\n",
       "</table>\n",
       "</div>"
      ],
      "text/plain": [
       "       x_term  x_term_trans  y_term_provax  y_term_antivax\n",
       "S0V  0.963725      0.981862       0.180960             1.0\n",
       "S1V  0.657057      0.828529       0.813457             1.0\n",
       "S2V  1.000000      1.000000       0.413996             0.0\n",
       "S3V  1.000000      1.000000       0.211324             0.0\n",
       "S4V  1.000000      1.000000       0.196095             0.0"
      ]
     },
     "execution_count": 13,
     "metadata": {},
     "output_type": "execute_result"
    }
   ],
   "source": [
    "df_polarization_index.head()"
   ]
  },
  {
   "cell_type": "markdown",
   "metadata": {},
   "source": [
    "To better discriminate between users, the computed terms are transformed following a polynomial transformation $\\frac{x^a}{x^a+(1-x)^a}$.\n",
    "\n",
    "Tha value of parameter $a$ has been previously optimized. Here are the optimized value for each topic:\n",
    "\n",
    "COVID-19 vaccine debate:\n",
    "* $a = 1/2$\n",
    "\n",
    "Ukraine conflict debate:\n",
    "* $a = 1/3$ "
   ]
  },
  {
   "cell_type": "code",
   "execution_count": 14,
   "metadata": {},
   "outputs": [],
   "source": [
    "#Vaccine debate\n",
    "#a=1/2\n",
    "\n",
    "#Ukraine debate\n",
    "a=1/3"
   ]
  },
  {
   "cell_type": "code",
   "execution_count": 15,
   "metadata": {},
   "outputs": [],
   "source": [
    "def f_sigmoid_optim(x):\n",
    "    return(x**(a)/(x**(a)+(1-x)**(a)))"
   ]
  },
  {
   "cell_type": "code",
   "execution_count": 16,
   "metadata": {},
   "outputs": [],
   "source": [
    "# df_polarization_index['x_final'] = df_polarization_index['x_term_trans'].apply(f_sigmoid_optim)\n",
    "# df_polarization_index['y_pro_final'] = df_polarization_index['y_term_provax'].apply(f_sigmoid_optim)\n",
    "# df_polarization_index['y_anti_final'] = df_polarization_index['y_term_antivax'].apply(f_sigmoid_optim)\n",
    "\n",
    "df_polarization_index['x_final'] = df_polarization_index['x_term_trans'].apply(f_sigmoid_optim)\n",
    "df_polarization_index['y_proU_final'] = df_polarization_index['y_term_proukraine'].apply(f_sigmoid_optim)\n",
    "df_polarization_index['y_proR_final'] = df_polarization_index['y_term_prorussia'].apply(f_sigmoid_optim)"
   ]
  },
  {
   "cell_type": "code",
   "execution_count": 17,
   "metadata": {},
   "outputs": [
    {
     "data": {
      "text/html": [
       "<div>\n",
       "<style scoped>\n",
       "    .dataframe tbody tr th:only-of-type {\n",
       "        vertical-align: middle;\n",
       "    }\n",
       "\n",
       "    .dataframe tbody tr th {\n",
       "        vertical-align: top;\n",
       "    }\n",
       "\n",
       "    .dataframe thead th {\n",
       "        text-align: right;\n",
       "    }\n",
       "</style>\n",
       "<table border=\"1\" class=\"dataframe\">\n",
       "  <thead>\n",
       "    <tr style=\"text-align: right;\">\n",
       "      <th></th>\n",
       "      <th>x_term</th>\n",
       "      <th>x_term_trans</th>\n",
       "      <th>y_term_provax</th>\n",
       "      <th>y_term_antivax</th>\n",
       "      <th>x_final</th>\n",
       "      <th>y_pro_final</th>\n",
       "      <th>y_anti_final</th>\n",
       "    </tr>\n",
       "  </thead>\n",
       "  <tbody>\n",
       "    <tr>\n",
       "      <th>S0V</th>\n",
       "      <td>0.963725</td>\n",
       "      <td>0.981862</td>\n",
       "      <td>0.180960</td>\n",
       "      <td>1.0</td>\n",
       "      <td>0.880348</td>\n",
       "      <td>0.319748</td>\n",
       "      <td>1.0</td>\n",
       "    </tr>\n",
       "    <tr>\n",
       "      <th>S1V</th>\n",
       "      <td>0.657057</td>\n",
       "      <td>0.828529</td>\n",
       "      <td>0.813457</td>\n",
       "      <td>1.0</td>\n",
       "      <td>0.687319</td>\n",
       "      <td>0.676190</td>\n",
       "      <td>1.0</td>\n",
       "    </tr>\n",
       "    <tr>\n",
       "      <th>S2V</th>\n",
       "      <td>1.000000</td>\n",
       "      <td>1.000000</td>\n",
       "      <td>0.413996</td>\n",
       "      <td>0.0</td>\n",
       "      <td>1.000000</td>\n",
       "      <td>0.456675</td>\n",
       "      <td>0.0</td>\n",
       "    </tr>\n",
       "    <tr>\n",
       "      <th>S3V</th>\n",
       "      <td>1.000000</td>\n",
       "      <td>1.000000</td>\n",
       "      <td>0.211324</td>\n",
       "      <td>0.0</td>\n",
       "      <td>1.000000</td>\n",
       "      <td>0.341081</td>\n",
       "      <td>0.0</td>\n",
       "    </tr>\n",
       "    <tr>\n",
       "      <th>S4V</th>\n",
       "      <td>1.000000</td>\n",
       "      <td>1.000000</td>\n",
       "      <td>0.196095</td>\n",
       "      <td>0.0</td>\n",
       "      <td>1.000000</td>\n",
       "      <td>0.330607</td>\n",
       "      <td>0.0</td>\n",
       "    </tr>\n",
       "  </tbody>\n",
       "</table>\n",
       "</div>"
      ],
      "text/plain": [
       "       x_term  x_term_trans  y_term_provax  y_term_antivax   x_final  \\\n",
       "S0V  0.963725      0.981862       0.180960             1.0  0.880348   \n",
       "S1V  0.657057      0.828529       0.813457             1.0  0.687319   \n",
       "S2V  1.000000      1.000000       0.413996             0.0  1.000000   \n",
       "S3V  1.000000      1.000000       0.211324             0.0  1.000000   \n",
       "S4V  1.000000      1.000000       0.196095             0.0  1.000000   \n",
       "\n",
       "     y_pro_final  y_anti_final  \n",
       "S0V     0.319748           1.0  \n",
       "S1V     0.676190           1.0  \n",
       "S2V     0.456675           0.0  \n",
       "S3V     0.341081           0.0  \n",
       "S4V     0.330607           0.0  "
      ]
     },
     "execution_count": 17,
     "metadata": {},
     "output_type": "execute_result"
    }
   ],
   "source": [
    "df_polarization_index.head()"
   ]
  },
  {
   "cell_type": "markdown",
   "metadata": {},
   "source": [
    "# Identification of polarization behavior classes\n",
    "\n",
    "Here we apply the clustering step on computed factors."
   ]
  },
  {
   "cell_type": "markdown",
   "metadata": {},
   "source": [
    "## Necessary functions"
   ]
  },
  {
   "cell_type": "code",
   "execution_count": 18,
   "metadata": {},
   "outputs": [],
   "source": [
    "#Search for the optimal value of k\n",
    "def optimal_k_means(X):\n",
    "    res = pd.DataFrame(columns=['k','Silhouette_index','DaviesBouldin_index'])\n",
    "    for k in range(2, 13, 1):\n",
    "        model = KMeans(n_clusters=k)\n",
    "        model.fit_predict(X)\n",
    "        db = davies_bouldin_score(X, model.labels_)\n",
    "        silhouette_avg = silhouette_score(X, model.labels_)\n",
    "        res = res.append({'k':k, 'Silhouette_index': silhouette_avg, 'DaviesBouldin_index':db}, ignore_index=True)  \n",
    "    return res"
   ]
  },
  {
   "cell_type": "code",
   "execution_count": 19,
   "metadata": {},
   "outputs": [],
   "source": [
    "#Application of the k-means algorithm with the selected optimal value of k\n",
    "def apply_k_means(X, k_opt):\n",
    "    model = KMeans(n_clusters=k_opt)\n",
    "    model.fit_predict(X)\n",
    "\n",
    "    cluster_labels = model.labels_\n",
    "    centers = pd.DataFrame(data=model.cluster_centers_, columns=X.columns)\n",
    "    clusters = pd.DataFrame(centers, columns = X.columns)\n",
    "\n",
    "    labels_df = pd.DataFrame(model.labels_.tolist(), columns=['Cluster'])\n",
    "    size_clusters = labels_df.groupby('Cluster').size()\n",
    "    size_clusters = size_clusters.to_frame()\n",
    "    size_clusters.columns=['size']\n",
    "    sizes = size_clusters['size'].tolist()\n",
    "    clusters['size'] = sizes\n",
    "    cols = clusters.columns.tolist()\n",
    "    cols = cols[-1:] + cols[:-1]\n",
    "    clusters = clusters[cols]\n",
    "    clusters = clusters.round(2)\n",
    "    clusters = clusters.T\n",
    "\n",
    "    return cluster_labels, centers, clusters"
   ]
  },
  {
   "cell_type": "code",
   "execution_count": 20,
   "metadata": {},
   "outputs": [],
   "source": [
    "#Get resulting silhouette plot\n",
    "def get_silhouette_plot(X, k_opt):\n",
    "    model = KMeans(n_clusters=k_opt)\n",
    "    model.fit_predict(X)\n",
    "    DB = davies_bouldin_score(X, model.labels_)\n",
    "    print('Davies Bouldin Index : ', DB)\n",
    "\n",
    "    silhouette_avg = silhouette_score(X, model.labels_)\n",
    "    print('Silhouette Index : ', silhouette_avg)\n",
    "\n",
    "    fig, (ax1) = plt.subplots(1, 1)\n",
    "    fig.set_size_inches(12, 6)\n",
    "\n",
    "    ax1.set_xlim([-0.1, 1])\n",
    "    ax1.set_ylim([0, len(X) + (model.n_clusters + 1) * 10])\n",
    "\n",
    "    sample_silhouette_values = silhouette_samples(X, model.labels_)\n",
    "    y_lower = 10\n",
    "    for i in range (model.n_clusters):\n",
    "        ith_cluster_silhouette_values = \\\n",
    "            sample_silhouette_values[model.labels_ == i]\n",
    "\n",
    "        ith_cluster_silhouette_values.sort()\n",
    "\n",
    "        size_cluster_i = ith_cluster_silhouette_values.shape[0]\n",
    "        y_upper = y_lower + size_cluster_i\n",
    "\n",
    "        color = cm.nipy_spectral(float(i) / model.n_clusters)\n",
    "        ax1.fill_betweenx(np.arange(y_lower, y_upper),\n",
    "                        0, ith_cluster_silhouette_values,\n",
    "                        facecolor=color, edgecolor=color, alpha=0.7)\n",
    "\n",
    "        ax1.text(-0.05, y_lower + 0.5 * size_cluster_i, str(i))\n",
    "\n",
    "        y_lower = y_upper + 10\n",
    "\n",
    "    ax1.set_title(\"The silhouette plot for the various clusters.\")\n",
    "    ax1.set_xlabel(\"The silhouette coefficient values\")\n",
    "    ax1.set_ylabel(\"Cluster label\")\n",
    "\n",
    "    ax1.axvline(x=silhouette_avg, color=\"red\", linestyle=\"--\")\n",
    "\n",
    "    ax1.set_yticks([]) \n",
    "    ax1.set_xticks([-0.1, 0, 0.2, 0.4, 0.6, 0.8, 1])\n",
    "\n",
    "\n",
    "    plt.suptitle((\"Silhouette analysis for KMeans clustering on sample data \"\n",
    "                \"with n_clusters = %d\" % model.n_clusters),\n",
    "                fontsize=14, fontweight='bold')"
   ]
  },
  {
   "cell_type": "markdown",
   "metadata": {},
   "source": [
    "## Clustering step"
   ]
  },
  {
   "cell_type": "code",
   "execution_count": 21,
   "metadata": {},
   "outputs": [],
   "source": [
    "#We create a dataframe that will be used for the clustering\n",
    "X = pd.DataFrame(columns=['x_final', 'y_pro_final', 'y_anti_final'])"
   ]
  },
  {
   "cell_type": "markdown",
   "metadata": {},
   "source": [
    "For the clustering process, the euclidean distance was adapted to give more weight to the opinion factor. To simplify and enhance computational performances, we multiply each factor by a weight. Following an optimization phase, we found that the opinion factor $H'_o$ should have a weight of 0.6 (60%) to allow better clustering performances. The remaining 40% are splitted among the two sources factors $H'_{s,pro}$,$H'_{s,proU}$, or $H'_{s,anti}$, $H'_{s,proR}$. "
   ]
  },
  {
   "cell_type": "code",
   "execution_count": 22,
   "metadata": {},
   "outputs": [],
   "source": [
    "# X['x_final'] = 0.6*df_polarization_index['x_final']\n",
    "# X['y_pro_final'] = 0.2 * df_polarization_index['y_pro_final']\n",
    "# X['y_anti_final'] = 0.2 * df_polarization_index['y_anti_final']\n",
    "\n",
    "X['x_final'] = 0.6*df_polarization_index['x_final']\n",
    "X['y_pro_final'] = 0.2 * df_polarization_index['y_proU_final']\n",
    "X['y_anti_final'] = 0.2 * df_polarization_index['y_proR_final']"
   ]
  },
  {
   "cell_type": "code",
   "execution_count": 23,
   "metadata": {},
   "outputs": [
    {
     "name": "stderr",
     "output_type": "stream",
     "text": [
      "C:\\Users\\CTREUI~1.BID\\AppData\\Local\\Temp/ipykernel_26408/2006018570.py:9: FutureWarning: The frame.append method is deprecated and will be removed from pandas in a future version. Use pandas.concat instead.\n",
      "  res = res.append({'k':k, 'Silhouette_index': silhouette_avg, 'DaviesBouldin_index':db}, ignore_index=True)\n",
      "C:\\Users\\CTREUI~1.BID\\AppData\\Local\\Temp/ipykernel_26408/2006018570.py:9: FutureWarning: The frame.append method is deprecated and will be removed from pandas in a future version. Use pandas.concat instead.\n",
      "  res = res.append({'k':k, 'Silhouette_index': silhouette_avg, 'DaviesBouldin_index':db}, ignore_index=True)\n",
      "C:\\Users\\CTREUI~1.BID\\AppData\\Local\\Temp/ipykernel_26408/2006018570.py:9: FutureWarning: The frame.append method is deprecated and will be removed from pandas in a future version. Use pandas.concat instead.\n",
      "  res = res.append({'k':k, 'Silhouette_index': silhouette_avg, 'DaviesBouldin_index':db}, ignore_index=True)\n",
      "C:\\Users\\CTREUI~1.BID\\AppData\\Local\\Temp/ipykernel_26408/2006018570.py:9: FutureWarning: The frame.append method is deprecated and will be removed from pandas in a future version. Use pandas.concat instead.\n",
      "  res = res.append({'k':k, 'Silhouette_index': silhouette_avg, 'DaviesBouldin_index':db}, ignore_index=True)\n",
      "C:\\Users\\CTREUI~1.BID\\AppData\\Local\\Temp/ipykernel_26408/2006018570.py:9: FutureWarning: The frame.append method is deprecated and will be removed from pandas in a future version. Use pandas.concat instead.\n",
      "  res = res.append({'k':k, 'Silhouette_index': silhouette_avg, 'DaviesBouldin_index':db}, ignore_index=True)\n"
     ]
    },
    {
     "name": "stderr",
     "output_type": "stream",
     "text": [
      "C:\\Users\\CTREUI~1.BID\\AppData\\Local\\Temp/ipykernel_26408/2006018570.py:9: FutureWarning: The frame.append method is deprecated and will be removed from pandas in a future version. Use pandas.concat instead.\n",
      "  res = res.append({'k':k, 'Silhouette_index': silhouette_avg, 'DaviesBouldin_index':db}, ignore_index=True)\n",
      "C:\\Users\\CTREUI~1.BID\\AppData\\Local\\Temp/ipykernel_26408/2006018570.py:9: FutureWarning: The frame.append method is deprecated and will be removed from pandas in a future version. Use pandas.concat instead.\n",
      "  res = res.append({'k':k, 'Silhouette_index': silhouette_avg, 'DaviesBouldin_index':db}, ignore_index=True)\n",
      "C:\\Users\\CTREUI~1.BID\\AppData\\Local\\Temp/ipykernel_26408/2006018570.py:9: FutureWarning: The frame.append method is deprecated and will be removed from pandas in a future version. Use pandas.concat instead.\n",
      "  res = res.append({'k':k, 'Silhouette_index': silhouette_avg, 'DaviesBouldin_index':db}, ignore_index=True)\n",
      "C:\\Users\\CTREUI~1.BID\\AppData\\Local\\Temp/ipykernel_26408/2006018570.py:9: FutureWarning: The frame.append method is deprecated and will be removed from pandas in a future version. Use pandas.concat instead.\n",
      "  res = res.append({'k':k, 'Silhouette_index': silhouette_avg, 'DaviesBouldin_index':db}, ignore_index=True)\n",
      "C:\\Users\\CTREUI~1.BID\\AppData\\Local\\Temp/ipykernel_26408/2006018570.py:9: FutureWarning: The frame.append method is deprecated and will be removed from pandas in a future version. Use pandas.concat instead.\n",
      "  res = res.append({'k':k, 'Silhouette_index': silhouette_avg, 'DaviesBouldin_index':db}, ignore_index=True)\n",
      "C:\\Users\\CTREUI~1.BID\\AppData\\Local\\Temp/ipykernel_26408/2006018570.py:9: FutureWarning: The frame.append method is deprecated and will be removed from pandas in a future version. Use pandas.concat instead.\n",
      "  res = res.append({'k':k, 'Silhouette_index': silhouette_avg, 'DaviesBouldin_index':db}, ignore_index=True)\n"
     ]
    },
    {
     "data": {
      "text/html": [
       "<div>\n",
       "<style scoped>\n",
       "    .dataframe tbody tr th:only-of-type {\n",
       "        vertical-align: middle;\n",
       "    }\n",
       "\n",
       "    .dataframe tbody tr th {\n",
       "        vertical-align: top;\n",
       "    }\n",
       "\n",
       "    .dataframe thead th {\n",
       "        text-align: right;\n",
       "    }\n",
       "</style>\n",
       "<table border=\"1\" class=\"dataframe\">\n",
       "  <thead>\n",
       "    <tr style=\"text-align: right;\">\n",
       "      <th></th>\n",
       "      <th>k</th>\n",
       "      <th>Silhouette_index</th>\n",
       "      <th>DaviesBouldin_index</th>\n",
       "    </tr>\n",
       "  </thead>\n",
       "  <tbody>\n",
       "    <tr>\n",
       "      <th>0</th>\n",
       "      <td>2.0</td>\n",
       "      <td>0.844388</td>\n",
       "      <td>0.233514</td>\n",
       "    </tr>\n",
       "    <tr>\n",
       "      <th>1</th>\n",
       "      <td>3.0</td>\n",
       "      <td>0.827830</td>\n",
       "      <td>0.375079</td>\n",
       "    </tr>\n",
       "    <tr>\n",
       "      <th>2</th>\n",
       "      <td>4.0</td>\n",
       "      <td>0.845717</td>\n",
       "      <td>0.350255</td>\n",
       "    </tr>\n",
       "    <tr>\n",
       "      <th>3</th>\n",
       "      <td>5.0</td>\n",
       "      <td>0.746916</td>\n",
       "      <td>0.422175</td>\n",
       "    </tr>\n",
       "    <tr>\n",
       "      <th>4</th>\n",
       "      <td>6.0</td>\n",
       "      <td>0.732266</td>\n",
       "      <td>0.449446</td>\n",
       "    </tr>\n",
       "    <tr>\n",
       "      <th>5</th>\n",
       "      <td>7.0</td>\n",
       "      <td>0.728576</td>\n",
       "      <td>0.555889</td>\n",
       "    </tr>\n",
       "    <tr>\n",
       "      <th>6</th>\n",
       "      <td>8.0</td>\n",
       "      <td>0.648853</td>\n",
       "      <td>0.597534</td>\n",
       "    </tr>\n",
       "    <tr>\n",
       "      <th>7</th>\n",
       "      <td>9.0</td>\n",
       "      <td>0.599889</td>\n",
       "      <td>0.581239</td>\n",
       "    </tr>\n",
       "    <tr>\n",
       "      <th>8</th>\n",
       "      <td>10.0</td>\n",
       "      <td>0.611695</td>\n",
       "      <td>0.536427</td>\n",
       "    </tr>\n",
       "    <tr>\n",
       "      <th>9</th>\n",
       "      <td>11.0</td>\n",
       "      <td>0.600639</td>\n",
       "      <td>0.591383</td>\n",
       "    </tr>\n",
       "    <tr>\n",
       "      <th>10</th>\n",
       "      <td>12.0</td>\n",
       "      <td>0.585569</td>\n",
       "      <td>0.573566</td>\n",
       "    </tr>\n",
       "  </tbody>\n",
       "</table>\n",
       "</div>"
      ],
      "text/plain": [
       "       k  Silhouette_index  DaviesBouldin_index\n",
       "0    2.0          0.844388             0.233514\n",
       "1    3.0          0.827830             0.375079\n",
       "2    4.0          0.845717             0.350255\n",
       "3    5.0          0.746916             0.422175\n",
       "4    6.0          0.732266             0.449446\n",
       "5    7.0          0.728576             0.555889\n",
       "6    8.0          0.648853             0.597534\n",
       "7    9.0          0.599889             0.581239\n",
       "8   10.0          0.611695             0.536427\n",
       "9   11.0          0.600639             0.591383\n",
       "10  12.0          0.585569             0.573566"
      ]
     },
     "execution_count": 23,
     "metadata": {},
     "output_type": "execute_result"
    }
   ],
   "source": [
    "optimal_k_means(X)"
   ]
  },
  {
   "cell_type": "code",
   "execution_count": 24,
   "metadata": {},
   "outputs": [],
   "source": [
    "#For both debates, the optimal value of k is 4\n",
    "labels, centers, clusters = apply_k_means(X, 4)\n",
    "sort_clusters = clusters.sort_values(by='size', ascending=False,axis=1)"
   ]
  },
  {
   "cell_type": "code",
   "execution_count": 25,
   "metadata": {},
   "outputs": [
    {
     "name": "stdout",
     "output_type": "stream",
     "text": [
      "Centers of identified clusters:\n"
     ]
    },
    {
     "data": {
      "text/html": [
       "<div>\n",
       "<style scoped>\n",
       "    .dataframe tbody tr th:only-of-type {\n",
       "        vertical-align: middle;\n",
       "    }\n",
       "\n",
       "    .dataframe tbody tr th {\n",
       "        vertical-align: top;\n",
       "    }\n",
       "\n",
       "    .dataframe thead th {\n",
       "        text-align: right;\n",
       "    }\n",
       "</style>\n",
       "<table border=\"1\" class=\"dataframe\">\n",
       "  <thead>\n",
       "    <tr style=\"text-align: right;\">\n",
       "      <th></th>\n",
       "      <th>1</th>\n",
       "      <th>0</th>\n",
       "      <th>2</th>\n",
       "      <th>3</th>\n",
       "    </tr>\n",
       "  </thead>\n",
       "  <tbody>\n",
       "    <tr>\n",
       "      <th>size</th>\n",
       "      <td>452.0</td>\n",
       "      <td>360.00</td>\n",
       "      <td>141.00</td>\n",
       "      <td>47.00</td>\n",
       "    </tr>\n",
       "    <tr>\n",
       "      <th>x_final</th>\n",
       "      <td>0.6</td>\n",
       "      <td>0.00</td>\n",
       "      <td>0.06</td>\n",
       "      <td>0.39</td>\n",
       "    </tr>\n",
       "    <tr>\n",
       "      <th>y_pro_final</th>\n",
       "      <td>0.1</td>\n",
       "      <td>0.00</td>\n",
       "      <td>0.18</td>\n",
       "      <td>0.11</td>\n",
       "    </tr>\n",
       "    <tr>\n",
       "      <th>y_anti_final</th>\n",
       "      <td>0.0</td>\n",
       "      <td>0.11</td>\n",
       "      <td>0.10</td>\n",
       "      <td>0.17</td>\n",
       "    </tr>\n",
       "  </tbody>\n",
       "</table>\n",
       "</div>"
      ],
      "text/plain": [
       "                  1       0       2      3\n",
       "size          452.0  360.00  141.00  47.00\n",
       "x_final         0.6    0.00    0.06   0.39\n",
       "y_pro_final     0.1    0.00    0.18   0.11\n",
       "y_anti_final    0.0    0.11    0.10   0.17"
      ]
     },
     "execution_count": 25,
     "metadata": {},
     "output_type": "execute_result"
    }
   ],
   "source": [
    "print('Centers of identified clusters:')\n",
    "sort_clusters"
   ]
  },
  {
   "cell_type": "code",
   "execution_count": 26,
   "metadata": {},
   "outputs": [],
   "source": [
    "map = {}\n",
    "for i in range(4):\n",
    "    map[sort_clusters.columns[i]]=clusters.columns[i]\n",
    "labels_map = [map[i] for i in labels]"
   ]
  },
  {
   "cell_type": "code",
   "execution_count": 27,
   "metadata": {},
   "outputs": [
    {
     "name": "stdout",
     "output_type": "stream",
     "text": [
      "Davies Bouldin Index :  0.3502546795975571\n",
      "Silhouette Index :  0.8457172316281671\n"
     ]
    },
    {
     "data": {
      "image/png": "[encoded data removed]",
      "text/plain": [
       "<Figure size 864x432 with 1 Axes>"
      ]
     },
     "metadata": {
      "needs_background": "light"
     },
     "output_type": "display_data"
    }
   ],
   "source": [
    "get_silhouette_plot(X, 4)"
   ]
  },
  {
   "cell_type": "code",
   "execution_count": 28,
   "metadata": {},
   "outputs": [],
   "source": [
    "X['cluster'] = labels_map"
   ]
  },
  {
   "cell_type": "code",
   "execution_count": 29,
   "metadata": {},
   "outputs": [],
   "source": [
    "df_polarization_index['cluster'] = labels_map"
   ]
  },
  {
   "cell_type": "code",
   "execution_count": 30,
   "metadata": {},
   "outputs": [
    {
     "data": {
      "text/html": [
       "<div>\n",
       "<style scoped>\n",
       "    .dataframe tbody tr th:only-of-type {\n",
       "        vertical-align: middle;\n",
       "    }\n",
       "\n",
       "    .dataframe tbody tr th {\n",
       "        vertical-align: top;\n",
       "    }\n",
       "\n",
       "    .dataframe thead th {\n",
       "        text-align: right;\n",
       "    }\n",
       "</style>\n",
       "<table border=\"1\" class=\"dataframe\">\n",
       "  <thead>\n",
       "    <tr style=\"text-align: right;\">\n",
       "      <th></th>\n",
       "      <th>x_term</th>\n",
       "      <th>x_term_trans</th>\n",
       "      <th>y_term_provax</th>\n",
       "      <th>y_term_antivax</th>\n",
       "      <th>x_final</th>\n",
       "      <th>y_pro_final</th>\n",
       "      <th>y_anti_final</th>\n",
       "      <th>cluster</th>\n",
       "    </tr>\n",
       "  </thead>\n",
       "  <tbody>\n",
       "    <tr>\n",
       "      <th>S0V</th>\n",
       "      <td>0.963725</td>\n",
       "      <td>0.981862</td>\n",
       "      <td>0.180960</td>\n",
       "      <td>1.0</td>\n",
       "      <td>0.880348</td>\n",
       "      <td>0.319748</td>\n",
       "      <td>1.0</td>\n",
       "      <td>3</td>\n",
       "    </tr>\n",
       "    <tr>\n",
       "      <th>S1V</th>\n",
       "      <td>0.657057</td>\n",
       "      <td>0.828529</td>\n",
       "      <td>0.813457</td>\n",
       "      <td>1.0</td>\n",
       "      <td>0.687319</td>\n",
       "      <td>0.676190</td>\n",
       "      <td>1.0</td>\n",
       "      <td>3</td>\n",
       "    </tr>\n",
       "    <tr>\n",
       "      <th>S2V</th>\n",
       "      <td>1.000000</td>\n",
       "      <td>1.000000</td>\n",
       "      <td>0.413996</td>\n",
       "      <td>0.0</td>\n",
       "      <td>1.000000</td>\n",
       "      <td>0.456675</td>\n",
       "      <td>0.0</td>\n",
       "      <td>0</td>\n",
       "    </tr>\n",
       "    <tr>\n",
       "      <th>S3V</th>\n",
       "      <td>1.000000</td>\n",
       "      <td>1.000000</td>\n",
       "      <td>0.211324</td>\n",
       "      <td>0.0</td>\n",
       "      <td>1.000000</td>\n",
       "      <td>0.341081</td>\n",
       "      <td>0.0</td>\n",
       "      <td>0</td>\n",
       "    </tr>\n",
       "    <tr>\n",
       "      <th>S4V</th>\n",
       "      <td>1.000000</td>\n",
       "      <td>1.000000</td>\n",
       "      <td>0.196095</td>\n",
       "      <td>0.0</td>\n",
       "      <td>1.000000</td>\n",
       "      <td>0.330607</td>\n",
       "      <td>0.0</td>\n",
       "      <td>0</td>\n",
       "    </tr>\n",
       "  </tbody>\n",
       "</table>\n",
       "</div>"
      ],
      "text/plain": [
       "       x_term  x_term_trans  y_term_provax  y_term_antivax   x_final  \\\n",
       "S0V  0.963725      0.981862       0.180960             1.0  0.880348   \n",
       "S1V  0.657057      0.828529       0.813457             1.0  0.687319   \n",
       "S2V  1.000000      1.000000       0.413996             0.0  1.000000   \n",
       "S3V  1.000000      1.000000       0.211324             0.0  1.000000   \n",
       "S4V  1.000000      1.000000       0.196095             0.0  1.000000   \n",
       "\n",
       "     y_pro_final  y_anti_final  cluster  \n",
       "S0V     0.319748           1.0        3  \n",
       "S1V     0.676190           1.0        3  \n",
       "S2V     0.456675           0.0        0  \n",
       "S3V     0.341081           0.0        0  \n",
       "S4V     0.330607           0.0        0  "
      ]
     },
     "execution_count": 30,
     "metadata": {},
     "output_type": "execute_result"
    }
   ],
   "source": [
    "df_polarization_index.head()"
   ]
  },
  {
   "cell_type": "code",
   "execution_count": 31,
   "metadata": {},
   "outputs": [],
   "source": [
    "#The final dataframe is saved in the results folder\n",
    "\n",
    "#df_polarization_index.to_csv('../results/holistic_analysis/vaccine_debate_final_data.csv')\n",
    "df_polarization_index.to_csv('../results/holistic_analysis/ukraine_conflict_debate_final_data.csv')"
   ]
  }
 ],
 "metadata": {
  "kernelspec": {
   "display_name": "Python 3 (ipykernel)",
   "language": "python",
   "name": "python3"
  },
  "language_info": {
   "codemirror_mode": {
    "name": "ipython",
    "version": 3
   },
   "file_extension": ".py",
   "mimetype": "text/x-python",
   "name": "python",
   "nbconvert_exporter": "python",
   "pygments_lexer": "ipython3",
   "version": "3.9.7"
  },
  "toc": {
   "base_numbering": 1,
   "nav_menu": {},
   "number_sections": true,
   "sideBar": true,
   "skip_h1_title": false,
   "title_cell": "Table of Contents",
   "title_sidebar": "Contents",
   "toc_cell": false,
   "toc_position": {
    "height": "calc(100% - 180px)",
    "left": "10px",
    "top": "150px",
    "width": "173.625px"
   },
   "toc_section_display": true,
   "toc_window_display": true
  },
  "vscode": {
   "interpreter": {
    "hash": "8ea5f84ac8dbad1701a234d4179ef7812de7c078d64ccd2301a841731bd1cccd"
   }
  }
 },
 "nbformat": 4,
 "nbformat_minor": 2
}
